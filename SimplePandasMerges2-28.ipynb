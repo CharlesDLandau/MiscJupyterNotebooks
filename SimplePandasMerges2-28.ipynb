{
 "cells": [
  {
   "cell_type": "markdown",
   "metadata": {},
   "source": [
    "# Simple Pandas Merges"
   ]
  },
  {
   "cell_type": "markdown",
   "metadata": {},
   "source": [
    "The Pandas merge and join functions mirror the SQL merging functionality. The fundamental merge types are INNER, OUTER (or FULL OUTER,) LEFT and RIGHT. (I'm writing these in capital letters because SQL words are written that way.)\n",
    "\n",
    "\n",
    "Let's begin with two dataframes: 'left' and 'right'"
   ]
  },
  {
   "cell_type": "code",
   "execution_count": 1,
   "metadata": {
    "collapsed": true
   },
   "outputs": [],
   "source": [
    "import pandas as pd\n",
    "\n",
    "left  = pd.DataFrame({\n",
    "    'some_match': [1, 'spam', 3, 6, 5],\n",
    "    'none_match': [10, 20, 30, 40, 50],\n",
    "    'all_match' : [5, 4, 3, 2, 1]\n",
    "})\n",
    "\n",
    "right = pd.DataFrame({\n",
    "    'some_match': [1, 3, 2, 4, 5],\n",
    "    'none_match': ['ten', 2.5, 'spam', 'eggs', 42],\n",
    "    'all_match' : [5, 4, 3, 2, 1]\n",
    "})"
   ]
  },
  {
   "cell_type": "markdown",
   "metadata": {},
   "source": [
    "Note the column names - they describe how the data compares across the two data frames. Compare for yourself.\n",
    "\n",
    "Now let's perform some merges. To begin, we'll try the inner merge:\n",
    "\n",
    "![](images/A_inner_join_B.png)\n",
    "\n",
    "We're always going to want the first two args to be \"left\" and \"right\". Plus we always want to give the kwarg \"suffixes\" so we know where columns come from.\n",
    "\n",
    "To perform an inner join on the \"some_match\" column we'll want to pass those values to the \"how\" and \"on\" arguments as well."
   ]
  },
  {
   "cell_type": "code",
   "execution_count": 2,
   "metadata": {
    "collapsed": false
   },
   "outputs": [
    {
     "data": {
      "text/html": [
       "<div>\n",
       "<table border=\"1\" class=\"dataframe\">\n",
       "  <thead>\n",
       "    <tr style=\"text-align: right;\">\n",
       "      <th></th>\n",
       "      <th>all_match_left</th>\n",
       "      <th>none_match_left</th>\n",
       "      <th>some_match</th>\n",
       "      <th>all_match_right</th>\n",
       "      <th>none_match_right</th>\n",
       "    </tr>\n",
       "  </thead>\n",
       "  <tbody>\n",
       "    <tr>\n",
       "      <th>0</th>\n",
       "      <td>5</td>\n",
       "      <td>10</td>\n",
       "      <td>1</td>\n",
       "      <td>5</td>\n",
       "      <td>ten</td>\n",
       "    </tr>\n",
       "    <tr>\n",
       "      <th>1</th>\n",
       "      <td>3</td>\n",
       "      <td>30</td>\n",
       "      <td>3</td>\n",
       "      <td>4</td>\n",
       "      <td>2.5</td>\n",
       "    </tr>\n",
       "    <tr>\n",
       "      <th>2</th>\n",
       "      <td>1</td>\n",
       "      <td>50</td>\n",
       "      <td>5</td>\n",
       "      <td>1</td>\n",
       "      <td>42</td>\n",
       "    </tr>\n",
       "  </tbody>\n",
       "</table>\n",
       "</div>"
      ],
      "text/plain": [
       "   all_match_left  none_match_left some_match  all_match_right  \\\n",
       "0               5               10          1                5   \n",
       "1               3               30          3                4   \n",
       "2               1               50          5                1   \n",
       "\n",
       "  none_match_right  \n",
       "0              ten  \n",
       "1              2.5  \n",
       "2               42  "
      ]
     },
     "execution_count": 2,
     "metadata": {},
     "output_type": "execute_result"
    }
   ],
   "source": [
    "pd.merge(left, right, how='inner', \n",
    "          on='some_match', suffixes=[\n",
    "              '_left', '_right']\n",
    "         )\n"
   ]
  },
  {
   "cell_type": "markdown",
   "metadata": {},
   "source": [
    "## What happened here?\n",
    "\n",
    "Note that our key - 'some_match' - is in the middle, and the DataFrame is only 3 rows long. The remaining two rows from the originals because, for example, left['some_match'] contains the value \"spam\" which does not appear in right['some_match']...\n",
    "\n",
    "What if \"some_match\" looked a bit different? Let's change \"spam\" to the number 5. This means that the left dataframe will have two rows matching to one row in the right dataframe."
   ]
  },
  {
   "cell_type": "code",
   "execution_count": 3,
   "metadata": {
    "collapsed": false
   },
   "outputs": [
    {
     "data": {
      "text/html": [
       "<div>\n",
       "<table border=\"1\" class=\"dataframe\">\n",
       "  <thead>\n",
       "    <tr style=\"text-align: right;\">\n",
       "      <th></th>\n",
       "      <th>all_match_left</th>\n",
       "      <th>none_match_left</th>\n",
       "      <th>some_match</th>\n",
       "      <th>all_match_right</th>\n",
       "      <th>none_match_right</th>\n",
       "    </tr>\n",
       "  </thead>\n",
       "  <tbody>\n",
       "    <tr>\n",
       "      <th>0</th>\n",
       "      <td>5</td>\n",
       "      <td>10</td>\n",
       "      <td>1</td>\n",
       "      <td>5</td>\n",
       "      <td>ten</td>\n",
       "    </tr>\n",
       "    <tr>\n",
       "      <th>1</th>\n",
       "      <td>4</td>\n",
       "      <td>20</td>\n",
       "      <td>5</td>\n",
       "      <td>1</td>\n",
       "      <td>42</td>\n",
       "    </tr>\n",
       "    <tr>\n",
       "      <th>2</th>\n",
       "      <td>1</td>\n",
       "      <td>50</td>\n",
       "      <td>5</td>\n",
       "      <td>1</td>\n",
       "      <td>42</td>\n",
       "    </tr>\n",
       "    <tr>\n",
       "      <th>3</th>\n",
       "      <td>3</td>\n",
       "      <td>30</td>\n",
       "      <td>3</td>\n",
       "      <td>4</td>\n",
       "      <td>2.5</td>\n",
       "    </tr>\n",
       "  </tbody>\n",
       "</table>\n",
       "</div>"
      ],
      "text/plain": [
       "   all_match_left  none_match_left  some_match  all_match_right  \\\n",
       "0               5               10           1                5   \n",
       "1               4               20           5                1   \n",
       "2               1               50           5                1   \n",
       "3               3               30           3                4   \n",
       "\n",
       "  none_match_right  \n",
       "0              ten  \n",
       "1               42  \n",
       "2               42  \n",
       "3              2.5  "
      ]
     },
     "execution_count": 3,
     "metadata": {},
     "output_type": "execute_result"
    }
   ],
   "source": [
    "left['some_match'] = [1, 5, 3, 6, 5]\n",
    "\n",
    "pd.merge(left, right, how='inner', \n",
    "          on='some_match', suffixes=[\n",
    "              '_left', '_right']\n",
    "         )\n"
   ]
  },
  {
   "cell_type": "markdown",
   "metadata": {},
   "source": [
    "Now we have 4 rows, as expected. In the right dataframe there is only one row where the value is 5, in the left there are two - so we see duplicate values in the other columns which came over from the right dataframe.\n",
    "\n",
    "You can try the code above with the \"on\" argument set to \"all_match\" or \"none_match\" just as a sanity check, so let's move on to full outer joins!\n",
    "\n",
    "![](images/A_full_join_B.png)\n",
    "\n",
    "The only change to our merge arguments is that we'll use \"how=outer\". This joins everything: if there's no match in the key column, Pandas will just make two rows, filling in the missing values with \"Not a Number\". Note the NaNs:"
   ]
  },
  {
   "cell_type": "code",
   "execution_count": 4,
   "metadata": {
    "collapsed": false
   },
   "outputs": [
    {
     "data": {
      "text/html": [
       "<div>\n",
       "<table border=\"1\" class=\"dataframe\">\n",
       "  <thead>\n",
       "    <tr style=\"text-align: right;\">\n",
       "      <th></th>\n",
       "      <th>all_match_left</th>\n",
       "      <th>none_match_left</th>\n",
       "      <th>some_match</th>\n",
       "      <th>all_match_right</th>\n",
       "      <th>none_match_right</th>\n",
       "    </tr>\n",
       "  </thead>\n",
       "  <tbody>\n",
       "    <tr>\n",
       "      <th>0</th>\n",
       "      <td>5.0</td>\n",
       "      <td>10.0</td>\n",
       "      <td>1</td>\n",
       "      <td>5.0</td>\n",
       "      <td>ten</td>\n",
       "    </tr>\n",
       "    <tr>\n",
       "      <th>1</th>\n",
       "      <td>4.0</td>\n",
       "      <td>20.0</td>\n",
       "      <td>5</td>\n",
       "      <td>1.0</td>\n",
       "      <td>42</td>\n",
       "    </tr>\n",
       "    <tr>\n",
       "      <th>2</th>\n",
       "      <td>1.0</td>\n",
       "      <td>50.0</td>\n",
       "      <td>5</td>\n",
       "      <td>1.0</td>\n",
       "      <td>42</td>\n",
       "    </tr>\n",
       "    <tr>\n",
       "      <th>3</th>\n",
       "      <td>3.0</td>\n",
       "      <td>30.0</td>\n",
       "      <td>3</td>\n",
       "      <td>4.0</td>\n",
       "      <td>2.5</td>\n",
       "    </tr>\n",
       "    <tr>\n",
       "      <th>4</th>\n",
       "      <td>2.0</td>\n",
       "      <td>40.0</td>\n",
       "      <td>6</td>\n",
       "      <td>NaN</td>\n",
       "      <td>NaN</td>\n",
       "    </tr>\n",
       "    <tr>\n",
       "      <th>5</th>\n",
       "      <td>NaN</td>\n",
       "      <td>NaN</td>\n",
       "      <td>2</td>\n",
       "      <td>3.0</td>\n",
       "      <td>spam</td>\n",
       "    </tr>\n",
       "    <tr>\n",
       "      <th>6</th>\n",
       "      <td>NaN</td>\n",
       "      <td>NaN</td>\n",
       "      <td>4</td>\n",
       "      <td>2.0</td>\n",
       "      <td>eggs</td>\n",
       "    </tr>\n",
       "  </tbody>\n",
       "</table>\n",
       "</div>"
      ],
      "text/plain": [
       "   all_match_left  none_match_left  some_match  all_match_right  \\\n",
       "0             5.0             10.0           1              5.0   \n",
       "1             4.0             20.0           5              1.0   \n",
       "2             1.0             50.0           5              1.0   \n",
       "3             3.0             30.0           3              4.0   \n",
       "4             2.0             40.0           6              NaN   \n",
       "5             NaN              NaN           2              3.0   \n",
       "6             NaN              NaN           4              2.0   \n",
       "\n",
       "  none_match_right  \n",
       "0              ten  \n",
       "1               42  \n",
       "2               42  \n",
       "3              2.5  \n",
       "4              NaN  \n",
       "5             spam  \n",
       "6             eggs  "
      ]
     },
     "execution_count": 4,
     "metadata": {},
     "output_type": "execute_result"
    }
   ],
   "source": [
    "pd.merge(left, right, how='outer', \n",
    "          on='some_match', suffixes=[\n",
    "              '_left', '_right']\n",
    "         )\n"
   ]
  },
  {
   "cell_type": "markdown",
   "metadata": {},
   "source": [
    "Try this out with the \"all_match\" column and note the differences!"
   ]
  },
  {
   "cell_type": "code",
   "execution_count": 5,
   "metadata": {
    "collapsed": false
   },
   "outputs": [
    {
     "data": {
      "text/html": [
       "<div>\n",
       "<table border=\"1\" class=\"dataframe\">\n",
       "  <thead>\n",
       "    <tr style=\"text-align: right;\">\n",
       "      <th></th>\n",
       "      <th>all_match</th>\n",
       "      <th>none_match_left</th>\n",
       "      <th>some_match_left</th>\n",
       "      <th>none_match_right</th>\n",
       "      <th>some_match_right</th>\n",
       "    </tr>\n",
       "  </thead>\n",
       "  <tbody>\n",
       "    <tr>\n",
       "      <th>0</th>\n",
       "      <td>5</td>\n",
       "      <td>10</td>\n",
       "      <td>1</td>\n",
       "      <td>ten</td>\n",
       "      <td>1</td>\n",
       "    </tr>\n",
       "    <tr>\n",
       "      <th>1</th>\n",
       "      <td>4</td>\n",
       "      <td>20</td>\n",
       "      <td>5</td>\n",
       "      <td>2.5</td>\n",
       "      <td>3</td>\n",
       "    </tr>\n",
       "    <tr>\n",
       "      <th>2</th>\n",
       "      <td>3</td>\n",
       "      <td>30</td>\n",
       "      <td>3</td>\n",
       "      <td>spam</td>\n",
       "      <td>2</td>\n",
       "    </tr>\n",
       "    <tr>\n",
       "      <th>3</th>\n",
       "      <td>2</td>\n",
       "      <td>40</td>\n",
       "      <td>6</td>\n",
       "      <td>eggs</td>\n",
       "      <td>4</td>\n",
       "    </tr>\n",
       "    <tr>\n",
       "      <th>4</th>\n",
       "      <td>1</td>\n",
       "      <td>50</td>\n",
       "      <td>5</td>\n",
       "      <td>42</td>\n",
       "      <td>5</td>\n",
       "    </tr>\n",
       "  </tbody>\n",
       "</table>\n",
       "</div>"
      ],
      "text/plain": [
       "   all_match  none_match_left  some_match_left none_match_right  \\\n",
       "0          5               10                1              ten   \n",
       "1          4               20                5              2.5   \n",
       "2          3               30                3             spam   \n",
       "3          2               40                6             eggs   \n",
       "4          1               50                5               42   \n",
       "\n",
       "   some_match_right  \n",
       "0                 1  \n",
       "1                 3  \n",
       "2                 2  \n",
       "3                 4  \n",
       "4                 5  "
      ]
     },
     "execution_count": 5,
     "metadata": {},
     "output_type": "execute_result"
    }
   ],
   "source": [
    "pd.merge(left, right, how='outer', \n",
    "          on='all_match', suffixes=[\n",
    "              '_left', '_right']\n",
    "         )"
   ]
  },
  {
   "cell_type": "markdown",
   "metadata": {},
   "source": [
    "Since everything matches, no NaNs!\n",
    "\n",
    "\n",
    "\n",
    "## Now let's prioritize:\n",
    "\n",
    "Until now, neither of the tables to be joined took priority over the other. Let's try a directional join now. Left and right joins take *everything* from the named side and only join data from the other side if there is a match.\n",
    "\n",
    "![](images/A_left_join_B.png)\n",
    "\n",
    "So, if we join on \"none_match\" we should only get NaNs from the opposite side side. On a left join, NaNs in the right side columns, for instance:"
   ]
  },
  {
   "cell_type": "code",
   "execution_count": 6,
   "metadata": {
    "collapsed": false
   },
   "outputs": [
    {
     "data": {
      "text/html": [
       "<div>\n",
       "<table border=\"1\" class=\"dataframe\">\n",
       "  <thead>\n",
       "    <tr style=\"text-align: right;\">\n",
       "      <th></th>\n",
       "      <th>all_match_left</th>\n",
       "      <th>none_match</th>\n",
       "      <th>some_match_left</th>\n",
       "      <th>all_match_right</th>\n",
       "      <th>some_match_right</th>\n",
       "    </tr>\n",
       "  </thead>\n",
       "  <tbody>\n",
       "    <tr>\n",
       "      <th>0</th>\n",
       "      <td>5</td>\n",
       "      <td>10</td>\n",
       "      <td>1</td>\n",
       "      <td>NaN</td>\n",
       "      <td>NaN</td>\n",
       "    </tr>\n",
       "    <tr>\n",
       "      <th>1</th>\n",
       "      <td>4</td>\n",
       "      <td>20</td>\n",
       "      <td>5</td>\n",
       "      <td>NaN</td>\n",
       "      <td>NaN</td>\n",
       "    </tr>\n",
       "    <tr>\n",
       "      <th>2</th>\n",
       "      <td>3</td>\n",
       "      <td>30</td>\n",
       "      <td>3</td>\n",
       "      <td>NaN</td>\n",
       "      <td>NaN</td>\n",
       "    </tr>\n",
       "    <tr>\n",
       "      <th>3</th>\n",
       "      <td>2</td>\n",
       "      <td>40</td>\n",
       "      <td>6</td>\n",
       "      <td>NaN</td>\n",
       "      <td>NaN</td>\n",
       "    </tr>\n",
       "    <tr>\n",
       "      <th>4</th>\n",
       "      <td>1</td>\n",
       "      <td>50</td>\n",
       "      <td>5</td>\n",
       "      <td>NaN</td>\n",
       "      <td>NaN</td>\n",
       "    </tr>\n",
       "  </tbody>\n",
       "</table>\n",
       "</div>"
      ],
      "text/plain": [
       "   all_match_left  none_match  some_match_left  all_match_right  \\\n",
       "0               5          10                1              NaN   \n",
       "1               4          20                5              NaN   \n",
       "2               3          30                3              NaN   \n",
       "3               2          40                6              NaN   \n",
       "4               1          50                5              NaN   \n",
       "\n",
       "   some_match_right  \n",
       "0               NaN  \n",
       "1               NaN  \n",
       "2               NaN  \n",
       "3               NaN  \n",
       "4               NaN  "
      ]
     },
     "execution_count": 6,
     "metadata": {},
     "output_type": "execute_result"
    }
   ],
   "source": [
    "pd.merge(left, right, how='left', \n",
    "          on='none_match', suffixes=[\n",
    "              '_left', '_right']\n",
    "         )"
   ]
  },
  {
   "cell_type": "markdown",
   "metadata": {},
   "source": [
    "There are more joins out there, and I would encourage you to explore the Pandas merge documentation: https://pandas.pydata.org/pandas-docs/stable/generated/pandas.DataFrame.merge.html\n",
    "\n",
    "I hope you found this helpful, and please feel free to submit an issue if you see that I missed or misrepresented something."
   ]
  }
 ],
 "metadata": {
  "kernelspec": {
   "display_name": "Python 3",
   "language": "python",
   "name": "python3"
  },
  "language_info": {
   "codemirror_mode": {
    "name": "ipython",
    "version": 3
   },
   "file_extension": ".py",
   "mimetype": "text/x-python",
   "name": "python",
   "nbconvert_exporter": "python",
   "pygments_lexer": "ipython3",
   "version": "3.6.0"
  }
 },
 "nbformat": 4,
 "nbformat_minor": 2
}
