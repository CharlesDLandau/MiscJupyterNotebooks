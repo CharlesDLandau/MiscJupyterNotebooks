{
 "cells": [
  {
   "cell_type": "markdown",
   "metadata": {},
   "source": [
    "# How do we work with dimensionality?"
   ]
  },
  {
   "cell_type": "code",
   "execution_count": 1,
   "metadata": {
    "collapsed": true
   },
   "outputs": [],
   "source": [
    "import numpy as np"
   ]
  },
  {
   "cell_type": "markdown",
   "metadata": {},
   "source": [
    "### First let's work with pure python"
   ]
  },
  {
   "cell_type": "code",
   "execution_count": 2,
   "metadata": {
    "collapsed": true
   },
   "outputs": [],
   "source": [
    "simplePython = [0, 1, 2, 3]\n",
    "twoDims      = [[0, 1, 2, 3], [4, 5, 6, 7]]\n",
    "threeDims    = [[[0, 1], [2, 3]], [[4, 5], [6, 7]]]"
   ]
  },
  {
   "cell_type": "markdown",
   "metadata": {},
   "source": [
    "As you can see, every time we have another layer of nested lists within lists, a new dimension is added to our data. This can go on forever, or to be more accurate, until your computer complains about it.\n",
    "\n",
    "To get the number two from each of these lists we use indexes:"
   ]
  },
  {
   "cell_type": "code",
   "execution_count": 3,
   "metadata": {},
   "outputs": [
    {
     "name": "stdout",
     "output_type": "stream",
     "text": [
      "[2, 2, 2]\n"
     ]
    }
   ],
   "source": [
    "print([simplePython[2], twoDims[0][2], threeDims[0][1][0]])"
   ]
  },
  {
   "cell_type": "markdown",
   "metadata": {},
   "source": [
    "We can also do slices, but accessing the next level after we slice is tricky."
   ]
  },
  {
   "cell_type": "code",
   "execution_count": 4,
   "metadata": {},
   "outputs": [
    {
     "name": "stdout",
     "output_type": "stream",
     "text": [
      "[[0, 1, 2, 3], [0, 1, 2, 3], [[0, 1], [2, 3]]]\n"
     ]
    }
   ],
   "source": [
    "print([simplePython[:], twoDims[0][:], threeDims[0][:]])"
   ]
  },
  {
   "cell_type": "markdown",
   "metadata": {},
   "source": [
    "Numpy has all the same options of course, but you can use commas and be more concise:"
   ]
  },
  {
   "cell_type": "code",
   "execution_count": 5,
   "metadata": {},
   "outputs": [
    {
     "name": "stdout",
     "output_type": "stream",
     "text": [
      "[array([0, 1, 2, 3]), array([0, 1, 2, 3]), array([[0, 1],\n",
      "       [2, 3]])]\n"
     ]
    }
   ],
   "source": [
    "simplePython = np.array([0, 1, 2, 3])\n",
    "twoDims      = np.array([[0, 1, 2, 3], [4, 5, 6, 7]])\n",
    "threeDims    = np.array([[[0, 1], [2, 3]], [[4, 5], [6, 7]]])\n",
    "\n",
    "print([simplePython[:], twoDims[0,:], threeDims[0,:]])"
   ]
  },
  {
   "cell_type": "markdown",
   "metadata": {},
   "source": [
    "### Numpy axis operations work on the dimensions."
   ]
  },
  {
   "cell_type": "markdown",
   "metadata": {},
   "source": [
    "The zeroth axis is always the outermost list - the \"top.\" If we take the mean of twoDims with axis zero, numpy will work with every list in the the outermost list.\n",
    "\n",
    "With those lists, it will start with the zeroth value in each of those lists. Here, the zeroth values in twoDims are 0 and 4.\n",
    "\n",
    "twoDims.mean is going to output a list, so now we know that the first value of the list is 2 (the average of 0 and 4.) Have a look:"
   ]
  },
  {
   "cell_type": "code",
   "execution_count": 6,
   "metadata": {},
   "outputs": [
    {
     "name": "stdout",
     "output_type": "stream",
     "text": [
      "[ 2.  3.  4.  5.]\n"
     ]
    }
   ],
   "source": [
    "twoDimsMean = twoDims.mean(axis= 0)\n",
    "print(twoDimsMean)"
   ]
  },
  {
   "cell_type": "markdown",
   "metadata": {},
   "source": [
    "The next axis, axis 1, will simply take the mean of every value in each list."
   ]
  },
  {
   "cell_type": "code",
   "execution_count": 7,
   "metadata": {},
   "outputs": [
    {
     "name": "stdout",
     "output_type": "stream",
     "text": [
      "[ 1.5  5.5]\n"
     ]
    }
   ],
   "source": [
    "twoDimsMean = twoDims.mean(axis= 1)\n",
    "print(twoDimsMean) #Observe how they differ"
   ]
  },
  {
   "cell_type": "markdown",
   "metadata": {},
   "source": [
    "# How does this work in 3-D?\n",
    "\n",
    "As you see below, the zeroth axis still gives the same values, but the output is nested to reflect the number of dimensions."
   ]
  },
  {
   "cell_type": "code",
   "execution_count": 8,
   "metadata": {},
   "outputs": [
    {
     "name": "stdout",
     "output_type": "stream",
     "text": [
      "[[ 2.  3.]\n",
      " [ 4.  5.]]\n"
     ]
    }
   ],
   "source": [
    "threeDimsMean = threeDims.mean(axis= 0)\n",
    "print(threeDimsMean)"
   ]
  },
  {
   "cell_type": "markdown",
   "metadata": {},
   "source": [
    "At axis 1, Numpy will do the same thing we saw above for the 2-D array, but now it will have to do it twice. In effect, the operations are the same as doing np.mean(axis=0) on two separate 2-D arrays."
   ]
  },
  {
   "cell_type": "code",
   "execution_count": 9,
   "metadata": {},
   "outputs": [
    {
     "data": {
      "text/plain": [
       "array([[0, 1],\n",
       "       [2, 3]])"
      ]
     },
     "execution_count": 9,
     "metadata": {},
     "output_type": "execute_result"
    }
   ],
   "source": [
    "threeDims[0]"
   ]
  },
  {
   "cell_type": "code",
   "execution_count": 10,
   "metadata": {},
   "outputs": [
    {
     "data": {
      "text/plain": [
       "array([ 1.,  2.])"
      ]
     },
     "execution_count": 10,
     "metadata": {},
     "output_type": "execute_result"
    }
   ],
   "source": [
    "threeDims[0].mean(axis=0)"
   ]
  },
  {
   "cell_type": "code",
   "execution_count": 11,
   "metadata": {},
   "outputs": [
    {
     "name": "stdout",
     "output_type": "stream",
     "text": [
      "[[ 1.  2.]\n",
      " [ 5.  6.]]\n"
     ]
    }
   ],
   "source": [
    "threeDimsMean = threeDims.mean(axis= 1)\n",
    "print(threeDimsMean)"
   ]
  },
  {
   "cell_type": "markdown",
   "metadata": {},
   "source": [
    "What about axis 2? It's a 3-D array after all?"
   ]
  },
  {
   "cell_type": "code",
   "execution_count": 12,
   "metadata": {},
   "outputs": [
    {
     "name": "stdout",
     "output_type": "stream",
     "text": [
      "[[ 0.5  2.5]\n",
      " [ 4.5  6.5]]\n"
     ]
    }
   ],
   "source": [
    "threeDimsMean = threeDims.mean(axis= 2)\n",
    "print(threeDimsMean)"
   ]
  },
  {
   "cell_type": "markdown",
   "metadata": {},
   "source": [
    "As you can see, just like with the 2-D array, it simply takes the average of elements in each of the lowest level lists."
   ]
  }
 ],
 "metadata": {
  "kernelspec": {
   "display_name": "Python 3",
   "language": "python",
   "name": "python3"
  },
  "language_info": {
   "codemirror_mode": {
    "name": "ipython",
    "version": 3
   },
   "file_extension": ".py",
   "mimetype": "text/x-python",
   "name": "python",
   "nbconvert_exporter": "python",
   "pygments_lexer": "ipython3",
   "version": "3.6.2"
  }
 },
 "nbformat": 4,
 "nbformat_minor": 2
}
