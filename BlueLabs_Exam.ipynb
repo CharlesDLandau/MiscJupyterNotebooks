{
 "cells": [
  {
   "cell_type": "markdown",
   "metadata": {},
   "source": [
    "# Black Panther: Market Survey Analysis and Findings\n",
    "\n",
    "## Summary:\n",
    "Disney studios is commissioning a new superhero theme park in Florida. They’ve narrowed the choices to Black Panther and Iron Man and will build a park based the number of Floridians who purchase either movie’s merchandise at local Disney stores this year. In general, people only tend to buy one movie’s merchandise. As part of our partnership with the Black Panther production team, we've analyzed potential strategies to convince Floridians to purchase Black Panther merchandise. \n",
    "Back in December, our data science team built a superhero preference score for every potential consumer in Florida.  The score measures two-way support, meaning that if someone is scored as a 64 they have a 64% likelihood of preferring Black Panther and a 36% likelihood of preferring Iron Man. \n",
    "The survey team recently conducted a poll to measure superhero preferences among Floridians. They weighted the results to likely Disney store shoppers and sent you the weights for everyone who responded to the survey and whose identity they could verify, along with the raw phone results and the sample the survey was pulled from. \n",
    "\n",
    "In this document I'll take you step-by-step through our analysis of the polling data, and suggest areas where our modeling may need to be updated.\n",
    "\n",
    "### Part 1: Load\n",
    "In this section I load some useful software packages, read the data into memory, and do some basic examination of the dataset."
   ]
  },
  {
   "cell_type": "code",
   "execution_count": 4,
   "metadata": {},
   "outputs": [],
   "source": [
    "# Import standard packages\n",
    "import numpy as np\n",
    "import pandas as pd\n",
    "import sklearn as sk"
   ]
  },
  {
   "cell_type": "code",
   "execution_count": 5,
   "metadata": {},
   "outputs": [],
   "source": [
    "# Read the tab-delimited data files and examine\n",
    "raw = pd.read_csv('Returns.txt', delimiter=\"\\t\",\n",
    "                 low_memory=False)\n",
    "\n",
    "df = pd.read_csv('Sample.txt', delimiter=\"\\t\",\n",
    "                 low_memory=False)\n",
    "df.head().T;"
   ]
  },
  {
   "cell_type": "code",
   "execution_count": 6,
   "metadata": {},
   "outputs": [
    {
     "data": {
      "text/html": [
       "<div>\n",
       "<table border=\"1\" class=\"dataframe\">\n",
       "  <thead>\n",
       "    <tr style=\"text-align: right;\">\n",
       "      <th></th>\n",
       "      <th>0</th>\n",
       "      <th>1</th>\n",
       "      <th>2</th>\n",
       "      <th>3</th>\n",
       "      <th>4</th>\n",
       "    </tr>\n",
       "  </thead>\n",
       "  <tbody>\n",
       "    <tr>\n",
       "      <th>ID</th>\n",
       "      <td>6.492648e+08</td>\n",
       "      <td>6.554264e+08</td>\n",
       "      <td>6.852681e+08</td>\n",
       "      <td>6.883162e+08</td>\n",
       "      <td>6.947868e+08</td>\n",
       "    </tr>\n",
       "    <tr>\n",
       "      <th>weight</th>\n",
       "      <td>7.294788e-01</td>\n",
       "      <td>1.990314e+00</td>\n",
       "      <td>6.954376e-01</td>\n",
       "      <td>8.820481e-01</td>\n",
       "      <td>1.117857e+00</td>\n",
       "    </tr>\n",
       "  </tbody>\n",
       "</table>\n",
       "</div>"
      ],
      "text/plain": [
       "                   0             1             2             3             4\n",
       "ID      6.492648e+08  6.554264e+08  6.852681e+08  6.883162e+08  6.947868e+08\n",
       "weight  7.294788e-01  1.990314e+00  6.954376e-01  8.820481e-01  1.117857e+00"
      ]
     },
     "execution_count": 6,
     "metadata": {},
     "output_type": "execute_result"
    }
   ],
   "source": [
    "weights = pd.read_csv('Weights.txt', delimiter=\"\\t\")\n",
    "weights.head().T"
   ]
  },
  {
   "cell_type": "code",
   "execution_count": 7,
   "metadata": {},
   "outputs": [],
   "source": [
    "# I don't need separate DataFrames. Merge\n",
    "df = pd.merge(df, weights, on=\"ID\", how=\"outer\")"
   ]
  },
  {
   "cell_type": "code",
   "execution_count": 8,
   "metadata": {},
   "outputs": [
    {
     "data": {
      "text/plain": [
       "(134226, 19)"
      ]
     },
     "execution_count": 8,
     "metadata": {},
     "output_type": "execute_result"
    }
   ],
   "source": [
    "df.shape"
   ]
  },
  {
   "cell_type": "code",
   "execution_count": 9,
   "metadata": {},
   "outputs": [
    {
     "data": {
      "text/plain": [
       "(973, 2)"
      ]
     },
     "execution_count": 9,
     "metadata": {},
     "output_type": "execute_result"
    }
   ],
   "source": [
    "weights.shape"
   ]
  },
  {
   "cell_type": "code",
   "execution_count": 10,
   "metadata": {},
   "outputs": [
    {
     "data": {
      "text/plain": [
       "Index(['ID', 'demo_age', 'demo_age_bucket', 'case', 'movie_seen', 'demo_sex',\n",
       "       'demo_city', 'demo_zipcode', 'demo_county_name', 'store_region',\n",
       "       'demo_media_market', 'demo_region', 'earliest_purchase_date',\n",
       "       'shopping_history', 'modeled_income', 'demo_income_bucket',\n",
       "       'census_education_classification', 'support_black_panther_score',\n",
       "       'weight'],\n",
       "      dtype='object')"
      ]
     },
     "execution_count": 10,
     "metadata": {},
     "output_type": "execute_result"
    }
   ],
   "source": [
    "df.columns"
   ]
  },
  {
   "cell_type": "markdown",
   "metadata": {},
   "source": [
    "### Part 2: Explore\n",
    "In this section I briefly explore the data by generating some visualizations."
   ]
  },
  {
   "cell_type": "code",
   "execution_count": 11,
   "metadata": {},
   "outputs": [
    {
     "data": {
      "image/png": "[encoded data removed]",
      "text/plain": [
       "<matplotlib.figure.Figure at 0x213b4a34cc0>"
      ]
     },
     "metadata": {},
     "output_type": "display_data"
    }
   ],
   "source": [
    "from matplotlib import pyplot as plt\n",
    "\n",
    "plt.style.use('seaborn')\n",
    "\n",
    "seen = df.groupby(['movie_seen']).count()\n",
    "sex = df.groupby(['demo_sex']).count()\n",
    "age = df.groupby(['demo_age_bucket']).count()\n",
    "ed = df.groupby(['census_education_classification']).count()\n",
    "\n",
    "# Tee up the plot\n",
    "plt.figure(figsize=(28, 16))\n",
    "plt.suptitle(\"Data Exploration, Black Panther Survey\",\n",
    "             fontsize=18)\n",
    "\n",
    "# Define an ax variable from subplot:\n",
    "ax1 = plt.subplot(2, 2, 1)\n",
    "ax1.set_title(\"Viewers\", fontsize=12)\n",
    "ax1.set_xticks(range(3))\n",
    "ax1.set_xticklabels(seen.index, fontsize=11)\n",
    "#Draw it\n",
    "ax1.bar(range(3), height=seen.ID.values)\n",
    "\n",
    "ax2 = plt.subplot(2, 2, 2)\n",
    "ax2.set_title(\"Gender in the Data\", fontsize=12)\n",
    "ax2.set_label(sex.index.values)\n",
    "#Draw it\n",
    "ax2.pie(sex.ID.values, labels=sex.index)\n",
    "\n",
    "ax3 = plt.subplot(2, 2, 3)\n",
    "ax3.set_title(\"Age Groups\", fontsize=8)\n",
    "ax3.set_xticklabels(age.index.values)\n",
    "ax3.set_xticks(range(len(age.index)))\n",
    "#Draw it\n",
    "ax3.bar(range(len(age.index)), age.ID.values)\n",
    "\n",
    "ax4 = plt.subplot(2, 2, 4)\n",
    "ax4.set_title(\"Education Groups\", fontsize=12)\n",
    "ax4.set_xticks(range(len(ed.index)))\n",
    "ax4.set_xticklabels(ed.index, fontsize=11)\n",
    "#Draw it\n",
    "ax4.bar(range(len(ed.index)), ed.ID.values)\n",
    "\n",
    "#plt.savefig('explore.png')\n",
    "plt.show()"
   ]
  },
  {
   "cell_type": "markdown",
   "metadata": {},
   "source": [
    "These visualizations show the age, sex, education and viewership distributions in the data. Let's also see how some instrumental variables perform."
   ]
  },
  {
   "cell_type": "code",
   "execution_count": 12,
   "metadata": {},
   "outputs": [],
   "source": [
    "views = pd.get_dummies(df.movie_seen)\n",
    "df[views.columns] = views\n",
    "df['saw_bp'] = df['Both'] + df['Black Panther']"
   ]
  },
  {
   "cell_type": "code",
   "execution_count": 13,
   "metadata": {},
   "outputs": [
    {
     "data": {
      "text/plain": [
       "-16380.48642627576"
      ]
     },
     "execution_count": 13,
     "metadata": {},
     "output_type": "execute_result"
    }
   ],
   "source": [
    "from sklearn.metrics import *\n",
    "scored = df[df.support_black_panther_score != '(null)'].copy()\n",
    "r2_score(scored['Black Panther'].values, \n",
    "         scored.support_black_panther_score.values)"
   ]
  },
  {
   "cell_type": "code",
   "execution_count": 14,
   "metadata": {},
   "outputs": [
    {
     "data": {
      "text/plain": [
       "51.534394758285408"
      ]
     },
     "execution_count": 14,
     "metadata": {},
     "output_type": "execute_result"
    }
   ],
   "source": [
    "mean_absolute_error(scored['Black Panther'].values, \n",
    "         scored.support_black_panther_score.values)"
   ]
  },
  {
   "cell_type": "markdown",
   "metadata": {},
   "source": [
    "Moving on, convert the values."
   ]
  },
  {
   "cell_type": "code",
   "execution_count": 15,
   "metadata": {},
   "outputs": [],
   "source": [
    "scored.support_black_panther_score= scored.support_black_panther_score.astype('float64')"
   ]
  },
  {
   "cell_type": "code",
   "execution_count": 16,
   "metadata": {},
   "outputs": [],
   "source": [
    "perc = lambda x: 1 if x >= 50.0 else 0\n",
    "scored['model_support'] = scored.support_black_panther_score.apply(perc);"
   ]
  },
  {
   "cell_type": "code",
   "execution_count": 17,
   "metadata": {},
   "outputs": [
    {
     "data": {
      "text/plain": [
       "0.1583260588182174"
      ]
     },
     "execution_count": 17,
     "metadata": {},
     "output_type": "execute_result"
    }
   ],
   "source": [
    "mean_absolute_error(scored['Black Panther'].values, \n",
    "         scored.model_support.values)"
   ]
  },
  {
   "cell_type": "code",
   "execution_count": 18,
   "metadata": {},
   "outputs": [
    {
     "data": {
      "text/plain": [
       "0.12731404834291563"
      ]
     },
     "execution_count": 18,
     "metadata": {},
     "output_type": "execute_result"
    }
   ],
   "source": [
    "mean_absolute_error(scored['saw_bp'].values, \n",
    "         scored.model_support.values)"
   ]
  },
  {
   "cell_type": "code",
   "execution_count": 22,
   "metadata": {},
   "outputs": [
    {
     "data": {
      "text/plain": [
       "0.4596346901926549"
      ]
     },
     "execution_count": 22,
     "metadata": {},
     "output_type": "execute_result"
    }
   ],
   "source": [
    "r2_score(scored['saw_bp'].values, \n",
    "         scored.model_support.values)"
   ]
  },
  {
   "cell_type": "markdown",
   "metadata": {},
   "source": [
    "Unfortunately, it doesn't look like our scores track with viewership."
   ]
  },
  {
   "cell_type": "markdown",
   "metadata": {},
   "source": [
    "### Part 3: Evaluation\n",
    "Let's see how the model performs! It would be nice if we could perform formal statistical tests on the model, but we didn't assign scores to the respondants."
   ]
  },
  {
   "cell_type": "code",
   "execution_count": 23,
   "metadata": {},
   "outputs": [],
   "source": [
    "raws = raw[pd.notnull(raw.disposition)]\n",
    "raws = raws[raws.qsupport != '(null)']\n",
    "raws = pd.merge(raws, weights, on=\"ID\", how=\"left\")"
   ]
  },
  {
   "cell_type": "code",
   "execution_count": 24,
   "metadata": {},
   "outputs": [],
   "source": [
    "m_pct = scored[scored.demo_sex == 'M'\n",
    "      ].groupby('model_support').sum().weight\n",
    "f_pct = scored[scored.demo_sex == 'F'\n",
    "      ].groupby('model_support').sum().weight\n",
    "m_rpct = raws[raws.qsex == '1'\n",
    "      ].groupby('qsupport').sum().weight\n",
    "f_rpct = raws[raws.qsex == '2'\n",
    "      ].groupby('qsupport').sum().weight"
   ]
  },
  {
   "cell_type": "markdown",
   "metadata": {},
   "source": [
    "As shown below, our model estimated that a significantly higher percentage of both males and females would prefer Black Panther."
   ]
  },
  {
   "cell_type": "code",
   "execution_count": 25,
   "metadata": {},
   "outputs": [
    {
     "data": {
      "image/png": "[encoded data removed]",
      "text/plain": [
       "<matplotlib.figure.Figure at 0x213b55a1780>"
      ]
     },
     "metadata": {},
     "output_type": "display_data"
    }
   ],
   "source": [
    "\n",
    "plt.title(\"Male Percent Preference for Black Panther \\nPredicted vs Surveyed\")\n",
    "plt.xticks(range(2), ['Predicted', 'Surveyed'])\n",
    "plt.bar(range(2), [m_pct[1]/m_pct.sum()*100, m_rpct[0]/m_rpct.sum()*100], \n",
    "        )\n",
    "plt.show()"
   ]
  },
  {
   "cell_type": "code",
   "execution_count": 26,
   "metadata": {},
   "outputs": [
    {
     "data": {
      "image/png": "[encoded data removed]",
      "text/plain": [
       "<matplotlib.figure.Figure at 0x213b55a16a0>"
      ]
     },
     "metadata": {},
     "output_type": "display_data"
    }
   ],
   "source": [
    "plt.title(\"Female Percent Preference for Black Panther \\nPredicted vs Surveyed\")\n",
    "plt.xticks(range(2), ['Predicted', 'Surveyed'])\n",
    "plt.bar(range(2), [f_pct[1]/f_pct.sum()*100, f_rpct[0]/f_rpct.sum()*100], \n",
    "        )\n",
    "plt.show()"
   ]
  },
  {
   "cell_type": "markdown",
   "metadata": {},
   "source": [
    "Given more time, other subgroup analyses may also be generated to illustrate how the original model over-estimates support for Black Panther. As females have a higher propensity to support the film in both the model set and the surveyed set, pursuing females in future campaigns is advisable while our team continues fine-tuning our model."
   ]
  },
  {
   "cell_type": "markdown",
   "metadata": {},
   "source": [
    "# Demo: SQL Queries on these datasets"
   ]
  },
  {
   "cell_type": "code",
   "execution_count": 17,
   "metadata": {},
   "outputs": [],
   "source": [
    "import sqlite3\n",
    "df['bp'] = df['Black Panther'].copy()\n",
    "df['im'] = df['Iron Man'].copy()"
   ]
  },
  {
   "cell_type": "code",
   "execution_count": 43,
   "metadata": {},
   "outputs": [],
   "source": [
    "raw.qsupport;"
   ]
  },
  {
   "cell_type": "code",
   "execution_count": 19,
   "metadata": {},
   "outputs": [
    {
     "name": "stderr",
     "output_type": "stream",
     "text": [
      "c:\\users\\cdl\\anaconda3\\lib\\site-packages\\pandas\\core\\generic.py:1201: UserWarning: The spaces in these column names will not be changed. In pandas versions < 0.14, spaces were converted to underscores.\n",
      "  chunksize=chunksize, dtype=dtype)\n"
     ]
    }
   ],
   "source": [
    "tables = [('raw', raw), ('df', df), ('weight', weights)]\n",
    "\n",
    "con = sqlite3.connect(\"databs.db\")\n",
    "cur = con.cursor()\n",
    "\n",
    "for name, i in tables:\n",
    "    i.to_sql(name, con, index=i.index)"
   ]
  },
  {
   "cell_type": "markdown",
   "metadata": {},
   "source": [
    "The percent of weighted respondents who’ve seen either Black Panther, Iron Man or both movies."
   ]
  },
  {
   "cell_type": "code",
   "execution_count": null,
   "metadata": {},
   "outputs": [],
   "source": [
    "bp_per = cur.execute(\"\"\"\n",
    "SELECT bp, (Count(bp)* 100 / (SELECT Count(*) FROM df)) as Score\n",
    "FROM df\n",
    "WHERE df.ID IN \n",
    "    (SELECT ID FROM weight)\n",
    "GROUP BY bp\n",
    "\"\"\")\n",
    "im_per = cur.execute(\"\"\"\n",
    "SELECT im, (Count(im)* 100 / (SELECT Count(*) FROM df)) as Score\n",
    "FROM df\n",
    "WHERE df.ID IN \n",
    "    (SELECT ID FROM weight)\n",
    "GROUP BY im\n",
    "\"\"\")\n",
    "both_per = cur.execute(\"\"\"\n",
    "SELECT both, (Count(both)* 100 / (SELECT Count(*) FROM df)) as Score\n",
    "FROM df\n",
    "WHERE df.ID IN \n",
    "    (SELECT ID FROM weight)\n",
    "GROUP BY both\n",
    "\"\"\")"
   ]
  },
  {
   "cell_type": "markdown",
   "metadata": {},
   "source": [
    "  The weighted percent of people who’ve seen each movie who say they are going to buy Black Panther merchandise and will not buy Iron Man merchandise\n"
   ]
  },
  {
   "cell_type": "code",
   "execution_count": null,
   "metadata": {},
   "outputs": [],
   "source": [
    "buy = cur.execute(\"\"\"\n",
    "SELECT Count(*)\n",
    "FROM df\n",
    "LEFT JOIN raw df ON df.ID = raw.ID \n",
    "    AND qsupport = 1 \n",
    "    AND both = 1\n",
    "\"\"\")"
   ]
  },
  {
   "cell_type": "markdown",
   "metadata": {},
   "source": [
    "The number of people with movie preference scores over 80 who are more likely to buy Iron Man merchandise."
   ]
  },
  {
   "cell_type": "code",
   "execution_count": null,
   "metadata": {},
   "outputs": [],
   "source": [
    "conflicted = cur.execute(\"\"\"\n",
    "SELECT Count(*) FROM raw \n",
    "WHERE qsupport = 2\n",
    "LEFT JOIN df raw ON df.ID = raw.ID\n",
    "    AND df.support_black_panther_score >= 80\n",
    "\"\"\")"
   ]
  }
 ],
 "metadata": {
  "kernelspec": {
   "display_name": "Python 3",
   "language": "python",
   "name": "python3"
  },
  "language_info": {
   "codemirror_mode": {
    "name": "ipython",
    "version": 3
   },
   "file_extension": ".py",
   "mimetype": "text/x-python",
   "name": "python",
   "nbconvert_exporter": "python",
   "pygments_lexer": "ipython3",
   "version": "3.6.0"
  }
 },
 "nbformat": 4,
 "nbformat_minor": 2
}
